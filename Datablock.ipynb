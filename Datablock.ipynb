{
 "cells": [
  {
   "cell_type": "code",
   "execution_count": 87,
   "id": "caring-disabled",
   "metadata": {},
   "outputs": [],
   "source": [
    "%reload_ext autoreload\n",
    "%autoreload 2\n",
    "\n",
    "# Block to allow debug in Pycharm\n",
    "import sys\n",
    "sys.path.append('D:\\\\Projects\\\\fastai2')\n",
    "sys.path.reverse()"
   ]
  },
  {
   "cell_type": "code",
   "execution_count": 88,
   "id": "greek-camera",
   "metadata": {},
   "outputs": [
    {
     "ename": "ModuleNotFoundError",
     "evalue": "No module named 'gdal'",
     "output_type": "error",
     "traceback": [
      "\u001b[0;31m---------------------------------------------------------------------------\u001b[0m",
      "\u001b[0;31mModuleNotFoundError\u001b[0m                       Traceback (most recent call last)",
      "\u001b[0;32m<ipython-input-88-352dd05e0fe4>\u001b[0m in \u001b[0;36m<module>\u001b[0;34m\u001b[0m\n\u001b[1;32m      6\u001b[0m \u001b[0;34m\u001b[0m\u001b[0m\n\u001b[1;32m      7\u001b[0m \u001b[0;32mfrom\u001b[0m \u001b[0mpathlib\u001b[0m \u001b[0;32mimport\u001b[0m \u001b[0mPath\u001b[0m\u001b[0;34m\u001b[0m\u001b[0;34m\u001b[0m\u001b[0m\n\u001b[0;32m----> 8\u001b[0;31m \u001b[0;32mimport\u001b[0m \u001b[0mgdal\u001b[0m\u001b[0;34m\u001b[0m\u001b[0;34m\u001b[0m\u001b[0m\n\u001b[0m\u001b[1;32m      9\u001b[0m \u001b[0;34m\u001b[0m\u001b[0m\n\u001b[1;32m     10\u001b[0m \u001b[0;32mimport\u001b[0m \u001b[0mpdb\u001b[0m\u001b[0;34m\u001b[0m\u001b[0;34m\u001b[0m\u001b[0m\n",
      "\u001b[0;31mModuleNotFoundError\u001b[0m: No module named 'gdal'"
     ]
    }
   ],
   "source": [
    "from fastai.basics import *\n",
    "from fastai.vision.all import *\n",
    "from fastai.vision.core import *\n",
    "from fastai.vision.data import *\n",
    "from fastai.data.all import *\n",
    "\n",
    "from pathlib import Path\n",
    "import gdal\n",
    "\n",
    "import pdb\n",
    "\n",
    "import numpy as np\n",
    "import matplotlib.pyplot as plt"
   ]
  },
  {
   "cell_type": "code",
   "execution_count": null,
   "id": "cellular-circulation",
   "metadata": {},
   "outputs": [],
   "source": [
    "path = Path('./Data')\n",
    "\n",
    "images_path = path/'images'\n",
    "labels_path = path/'labels'\n",
    "\n",
    "print(f'Checking number of files - images: {len([f for f in images_path.iterdir()])})\\\n",
    "      masks:{len([f for f in labels_path.iterdir()])}')\n",
    "        \n",
    "# Checking file shapes\n",
    "idx = 22\n",
    "img_path = [f for f in images_path.iterdir()][idx]\n",
    "msk_path = [f for f in labels_path.iterdir()][idx]\n",
    "      \n",
    "img = np.load(str(img_path))\n",
    "msk = np.load(str(msk_path))\n",
    "      \n",
    "print(f'Checking shapes - image: {img.shape} mask: {msk.shape}')"
   ]
  },
  {
   "cell_type": "code",
   "execution_count": null,
   "id": "killing-bunny",
   "metadata": {},
   "outputs": [],
   "source": [
    "# Plotting a sample\n",
    "_, ax = plt.subplots(1, 2, figsize=(10, 5))\n",
    "ax[0].imshow(img.transpose((1, 2, 0))[..., [3, 2, 1]]*3.0)\n",
    "ax[1].imshow(msk)"
   ]
  },
  {
   "cell_type": "code",
   "execution_count": null,
   "id": "colored-arizona",
   "metadata": {},
   "outputs": [],
   "source": [
    "def open_npy(fn, chnls=None, cls=torch.Tensor):\n",
    "    im = torch.from_numpy(np.load(str(fn))).type(torch.float32)\n",
    "    if chnls is not None:\n",
    "        im = im[chnls]\n",
    "    return cls(im)\n",
    "\n",
    "class MSTensorImage(TensorImage):\n",
    "    \n",
    "    def __init__(self, x, chnls_first=False):\n",
    "        self.chnls_first = chnls_first\n",
    "        \n",
    "    @classmethod\n",
    "    def create(cls, data:(Path,str,ndarray), chnls=None, chnls_first=True):\n",
    "        \n",
    "        if isinstance(data, Path) or isinstance(data, str):\n",
    "            if str(data).endswith('npy'): \n",
    "                im = open_npy(fn=data, chnls=chnls, cls=torch.Tensor)\n",
    "        \n",
    "        elif isinstance(data, ndarray):\n",
    "            im = torch.from_numpy(data)\n",
    "        else:\n",
    "            im = data\n",
    "            \n",
    "        return cls(im, chnls_first=chnls_first)\n",
    "    \n",
    "    \n",
    "    def show(self, chnls=[3, 2, 1], bright=1., ctx=None):\n",
    "            \n",
    "        if img.ndim > 2:\n",
    "            visu_img = self[..., chnls] if not self.chnls_first else self.permute([1, 2, 0])[..., chnls]\n",
    "        else:\n",
    "            visu_img = self\n",
    "            \n",
    "        visu_img = visu_img.squeeze()\n",
    "        \n",
    "        visu_img *= bright\n",
    "        visu_img = np.where(visu_img > 1, 1, visu_img)\n",
    "        visu_img = np.where(visu_img < 0, 0, visu_img)\n",
    "        \n",
    "        plt.imshow(visu_img) if ctx is None else ctx.imshow(visu_img)\n",
    "        \n",
    "        return ctx\n",
    "    \n",
    "    def __repr__(self):\n",
    "        \n",
    "        return (f'MSTensorImage: {self.shape}')"
   ]
  },
  {
   "cell_type": "code",
   "execution_count": null,
   "id": "polar-remedy",
   "metadata": {},
   "outputs": [],
   "source": [
    "img = MSTensorImage.create(img_path)\n",
    "print(img)\n",
    "\n",
    "_, ax = plt.subplots(1, 3, figsize=(12, 4))\n",
    "img.show(bright=3., ctx=ax[0])\n",
    "img.show(chnls=[2, 7, 10], ctx=ax[1])\n",
    "img.show(chnls=[11], ctx=ax[2])"
   ]
  },
  {
   "cell_type": "code",
   "execution_count": null,
   "id": "oriental-cooper",
   "metadata": {},
   "outputs": [],
   "source": [
    "mask = TensorMask(open_npy(msk_path))\n",
    "print(mask.shape)\n",
    "\n",
    "_, ax = plt.subplots(1, 2, figsize=(10, 5))\n",
    "img.show(bright=3., ctx=ax[0])\n",
    "mask.show(ctx=ax[1])"
   ]
  },
  {
   "cell_type": "code",
   "execution_count": null,
   "id": "adequate-exhaust",
   "metadata": {
    "scrolled": true
   },
   "outputs": [],
   "source": [
    "def get_lbl_fn(img_fn: Path):\n",
    "    lbl_path = img_fn.parent.parent/'labels'\n",
    "    lbl_name = img_fn.name\n",
    "    return (lbl_path/lbl_name)\n",
    "\n",
    "db = Datablock(blocks=(TransformBlock(type_tfms=partial(MSTensorImage.create, chnls_first=True)),\n",
    "                       TransformBlock(type_tfms=[get_lbl_fn, partial(open_npy, cls=TensorMask)],\n",
    "                                      item_tfms=AddMaskCodes(codes=['clear', 'water', 'shadow'])),\n",
    "                      ),\n",
    "               get_items=partial(get_files, extensions='.npy'),\n",
    "               splitter=RandomSplitter(valid_pct=0.1)\n",
    "              )\n",
    "\n",
    "db.summary(source=imgs_path)\n",
    "               "
   ]
  },
  {
   "cell_type": "code",
   "execution_count": null,
   "id": "vital-heavy",
   "metadata": {},
   "outputs": [],
   "source": []
  },
  {
   "cell_type": "code",
   "execution_count": null,
   "id": "automotive-stanford",
   "metadata": {},
   "outputs": [],
   "source": []
  }
 ],
 "metadata": {
  "kernelspec": {
   "display_name": "Python 3",
   "language": "python",
   "name": "python3"
  },
  "language_info": {
   "codemirror_mode": {
    "name": "ipython",
    "version": 3
   },
   "file_extension": ".py",
   "mimetype": "text/x-python",
   "name": "python",
   "nbconvert_exporter": "python",
   "pygments_lexer": "ipython3",
   "version": "3.8.5"
  }
 },
 "nbformat": 4,
 "nbformat_minor": 5
}
